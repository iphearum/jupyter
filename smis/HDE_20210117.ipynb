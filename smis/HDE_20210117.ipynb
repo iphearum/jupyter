{
 "cells": [
  {
   "cell_type": "code",
   "execution_count": 173,
   "id": "ebe33f17",
   "metadata": {},
   "outputs": [],
   "source": [
    "import os\n",
    "import numpy as np\n",
    "import pandas as pd\n",
    "import pandas_access as mdb\n",
    "\n",
    "# from optimiz.py import Optimiz"
   ]
  },
  {
   "cell_type": "code",
   "execution_count": 157,
   "id": "2dd7a548",
   "metadata": {},
   "outputs": [],
   "source": [
    "dirName = \"HDE_20210117\"\n",
    "fileName = \"datasets/%s.mdb\"%(dirName)"
   ]
  },
  {
   "cell_type": "code",
   "execution_count": 160,
   "id": "85f983b4",
   "metadata": {},
   "outputs": [],
   "source": [
    "data_csv = {\"table\":[], \"file\": {}}"
   ]
  },
  {
   "cell_type": "code",
   "execution_count": 161,
   "id": "a9e69bc8",
   "metadata": {},
   "outputs": [
    {
     "name": "stderr",
     "output_type": "stream",
     "text": [
      "Unrecognized format.\n"
     ]
    }
   ],
   "source": [
    "for tbl in mdb.list_tables(fileName):\n",
    "    os.makedirs('datasets/%s'%(dirName), exist_ok=True) #create directory\n",
    "    saveFile = \"datasets/%s/data_%s.csv\"%(dirName,tbl.lower())\n",
    "    cmd_command = \"mdb-export %s %s > %s\"%(fileName,tbl,saveFile)\n",
    "    !{cmd_command} # Run shell by `!`\n",
    "#     Load and save file by pandas_access\n",
    "#     if(tbl != 'Schools'): # Wrong forma#     if(tbl != 'Schools'): # Wrong forma`t\n",
    "#         data = mdb.read_table(fileName, tbl) # Read file from mdb with table\n",
    "#         data.to_csv(\"datas/%s/data_%s.csv\"%(dirName,tbl.lower()))\n",
    "    data_csv['table'].append(tbl)\n",
    "    data_csv['file'][tbl] = saveFIle"
   ]
  },
  {
   "cell_type": "code",
   "execution_count": 162,
   "id": "ff750ac0",
   "metadata": {},
   "outputs": [
    {
     "data": {
      "text/plain": [
       "['Commune',\n",
       " 'District',\n",
       " 'ETotal',\n",
       " 'ExamCentres',\n",
       " 'Gender',\n",
       " 'Programs',\n",
       " 'Province',\n",
       " 'School_prefix',\n",
       " 'MorePlaceOfBirth',\n",
       " 'Schools']"
      ]
     },
     "execution_count": 162,
     "metadata": {},
     "output_type": "execute_result"
    }
   ],
   "source": [
    "# tuple(data_csv['table'])\n",
    "data_csv['table']"
   ]
  },
  {
   "cell_type": "code",
   "execution_count": 163,
   "id": "75418d53",
   "metadata": {},
   "outputs": [
    {
     "data": {
      "text/html": [
       "<div>\n",
       "<style scoped>\n",
       "    .dataframe tbody tr th:only-of-type {\n",
       "        vertical-align: middle;\n",
       "    }\n",
       "\n",
       "    .dataframe tbody tr th {\n",
       "        vertical-align: top;\n",
       "    }\n",
       "\n",
       "    .dataframe thead th {\n",
       "        text-align: right;\n",
       "    }\n",
       "</style>\n",
       "<table border=\"1\" class=\"dataframe\">\n",
       "  <thead>\n",
       "    <tr style=\"text-align: right;\">\n",
       "      <th></th>\n",
       "      <th>PCode</th>\n",
       "      <th>DCode</th>\n",
       "      <th>CCode</th>\n",
       "      <th>Commune</th>\n",
       "      <th>Commune_K</th>\n",
       "      <th>Commune_K_ascii</th>\n",
       "      <th>LOCPCode</th>\n",
       "      <th>LOCDCode</th>\n",
       "      <th>LOCCCode</th>\n",
       "      <th>IsDeleted</th>\n",
       "      <th>DateCreated</th>\n",
       "      <th>LastUpdated</th>\n",
       "      <th>IsActive</th>\n",
       "    </tr>\n",
       "  </thead>\n",
       "  <tbody>\n",
       "    <tr>\n",
       "      <th>0</th>\n",
       "      <td>1</td>\n",
       "      <td>2</td>\n",
       "      <td>1</td>\n",
       "      <td>Banteay Neang</td>\n",
       "      <td>Banteay Neang</td>\n",
       "      <td>066.097.110.116.101.097.121.032.078.101.097.11...</td>\n",
       "      <td>1</td>\n",
       "      <td>102</td>\n",
       "      <td>10201</td>\n",
       "      <td>0</td>\n",
       "      <td>01/12/22 09:24:57</td>\n",
       "      <td>NaN</td>\n",
       "      <td>1</td>\n",
       "    </tr>\n",
       "    <tr>\n",
       "      <th>1</th>\n",
       "      <td>1</td>\n",
       "      <td>2</td>\n",
       "      <td>2</td>\n",
       "      <td>Bat Trang</td>\n",
       "      <td>Bat Trang</td>\n",
       "      <td>066.097.116.032.084.114.097.110.103</td>\n",
       "      <td>1</td>\n",
       "      <td>102</td>\n",
       "      <td>10202</td>\n",
       "      <td>0</td>\n",
       "      <td>01/12/22 09:24:57</td>\n",
       "      <td>NaN</td>\n",
       "      <td>1</td>\n",
       "    </tr>\n",
       "    <tr>\n",
       "      <th>2</th>\n",
       "      <td>1</td>\n",
       "      <td>2</td>\n",
       "      <td>3</td>\n",
       "      <td>Chamnom</td>\n",
       "      <td>Chamnom</td>\n",
       "      <td>067.104.097.109.110.111.109</td>\n",
       "      <td>1</td>\n",
       "      <td>102</td>\n",
       "      <td>10203</td>\n",
       "      <td>0</td>\n",
       "      <td>01/12/22 09:24:57</td>\n",
       "      <td>NaN</td>\n",
       "      <td>1</td>\n",
       "    </tr>\n",
       "    <tr>\n",
       "      <th>3</th>\n",
       "      <td>1</td>\n",
       "      <td>2</td>\n",
       "      <td>4</td>\n",
       "      <td>Kauk Balaing</td>\n",
       "      <td>Kauk Balaing</td>\n",
       "      <td>075.097.117.107.032.066.097.108.097.105.110.103</td>\n",
       "      <td>1</td>\n",
       "      <td>102</td>\n",
       "      <td>10204</td>\n",
       "      <td>0</td>\n",
       "      <td>01/12/22 09:24:57</td>\n",
       "      <td>NaN</td>\n",
       "      <td>1</td>\n",
       "    </tr>\n",
       "    <tr>\n",
       "      <th>4</th>\n",
       "      <td>1</td>\n",
       "      <td>2</td>\n",
       "      <td>5</td>\n",
       "      <td>Koy Meng</td>\n",
       "      <td>Koy Meng</td>\n",
       "      <td>075.111.121.032.077.101.110.103</td>\n",
       "      <td>1</td>\n",
       "      <td>102</td>\n",
       "      <td>10205</td>\n",
       "      <td>0</td>\n",
       "      <td>01/12/22 09:24:57</td>\n",
       "      <td>NaN</td>\n",
       "      <td>1</td>\n",
       "    </tr>\n",
       "  </tbody>\n",
       "</table>\n",
       "</div>"
      ],
      "text/plain": [
       "   PCode  DCode  CCode        Commune      Commune_K  \\\n",
       "0      1      2      1  Banteay Neang  Banteay Neang   \n",
       "1      1      2      2      Bat Trang      Bat Trang   \n",
       "2      1      2      3        Chamnom        Chamnom   \n",
       "3      1      2      4   Kauk Balaing   Kauk Balaing   \n",
       "4      1      2      5       Koy Meng       Koy Meng   \n",
       "\n",
       "                                     Commune_K_ascii  LOCPCode  LOCDCode  \\\n",
       "0  066.097.110.116.101.097.121.032.078.101.097.11...         1       102   \n",
       "1                066.097.116.032.084.114.097.110.103         1       102   \n",
       "2                        067.104.097.109.110.111.109         1       102   \n",
       "3    075.097.117.107.032.066.097.108.097.105.110.103         1       102   \n",
       "4                    075.111.121.032.077.101.110.103         1       102   \n",
       "\n",
       "   LOCCCode  IsDeleted        DateCreated  LastUpdated  IsActive  \n",
       "0     10201          0  01/12/22 09:24:57          NaN         1  \n",
       "1     10202          0  01/12/22 09:24:57          NaN         1  \n",
       "2     10203          0  01/12/22 09:24:57          NaN         1  \n",
       "3     10204          0  01/12/22 09:24:57          NaN         1  \n",
       "4     10205          0  01/12/22 09:24:57          NaN         1  "
      ]
     },
     "execution_count": 163,
     "metadata": {},
     "output_type": "execute_result"
    }
   ],
   "source": [
    "data_etotal_csv = pd.read_csv(data_csv['file']['Schools'])\n",
    "data_etotal_csv.head()"
   ]
  },
  {
   "cell_type": "code",
   "execution_count": null,
   "id": "8c256166",
   "metadata": {},
   "outputs": [],
   "source": []
  }
 ],
 "metadata": {
  "kernelspec": {
   "display_name": "Python 3 (ipykernel)",
   "language": "python",
   "name": "python3"
  },
  "language_info": {
   "codemirror_mode": {
    "name": "ipython",
    "version": 3
   },
   "file_extension": ".py",
   "mimetype": "text/x-python",
   "name": "python",
   "nbconvert_exporter": "python",
   "pygments_lexer": "ipython3",
   "version": "3.10.4"
  }
 },
 "nbformat": 4,
 "nbformat_minor": 5
}
