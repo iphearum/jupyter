{
 "cells": [
  {
   "cell_type": "code",
   "execution_count": 65,
   "id": "ebe33f17",
   "metadata": {},
   "outputs": [],
   "source": [
    "import os\n",
    "import subprocess\n",
    "import numpy as np\n",
    "import pandas as pd\n",
    "import pandas_access as mdb\n",
    "\n",
    "from optimiz import Optimiz"
   ]
  },
  {
   "cell_type": "code",
   "execution_count": 66,
   "id": "2dd7a548",
   "metadata": {},
   "outputs": [],
   "source": [
    "dirName = \"HDE_20210117\"\n",
    "fileName = \"datasets/%s.mdb\"%(dirName)"
   ]
  },
  {
   "cell_type": "code",
   "execution_count": 67,
   "id": "85f983b4",
   "metadata": {},
   "outputs": [],
   "source": [
    "data_csv = {\"table\":[], \"file\": {}}"
   ]
  },
  {
   "cell_type": "code",
   "execution_count": 68,
   "id": "d95da045",
   "metadata": {},
   "outputs": [
    {
     "name": "stderr",
     "output_type": "stream",
     "text": [
      "Unrecognized format.\n"
     ]
    },
    {
     "data": {
      "text/plain": [
       "['Commune',\n",
       " 'District',\n",
       " 'ETotal',\n",
       " 'ExamCentres',\n",
       " 'Gender',\n",
       " 'Programs',\n",
       " 'Province',\n",
       " 'School_prefix',\n",
       " 'MorePlaceOfBirth',\n",
       " 'Schools']"
      ]
     },
     "execution_count": 68,
     "metadata": {},
     "output_type": "execute_result"
    }
   ],
   "source": [
    "\n",
    "def show_tables(path=fileName):\n",
    "    tables = subprocess.check_output([\"mdb-tables\", path])\n",
    "    return tables.decode().split()\n",
    "\n",
    "show_tables()"
   ]
  },
  {
   "cell_type": "code",
   "execution_count": 69,
   "id": "a9e69bc8",
   "metadata": {},
   "outputs": [
    {
     "name": "stderr",
     "output_type": "stream",
     "text": [
      "Unrecognized format.\n"
     ]
    }
   ],
   "source": [
    "dirNameNew = dirName+'_2';\n",
    "for tbl in mdb.list_tables(fileName):\n",
    "    os.makedirs('datasets/%s'%(dirNameNew), exist_ok=True) #create directory\n",
    "    tempFile = \"datasets/%s/data_%s.csv\"%(dirNameNew,tbl.lower())\n",
    "    cmd_command = \"mdb-export %s %s > %s\"%(fileName,tbl,tempFile)\n",
    "    !{cmd_command} # Run shell by `!`\n",
    "    data_csv['table'].append(tbl)\n",
    "    data_csv['file'][tbl] = tempFile"
   ]
  },
  {
   "cell_type": "code",
   "execution_count": 95,
   "id": "ff750ac0",
   "metadata": {},
   "outputs": [
    {
     "data": {
      "text/plain": [
       "['Commune',\n",
       " 'District',\n",
       " 'ETotal',\n",
       " 'ExamCentres',\n",
       " 'Gender',\n",
       " 'Programs',\n",
       " 'Province',\n",
       " 'School_prefix',\n",
       " 'MorePlaceOfBirth',\n",
       " 'Schools']"
      ]
     },
     "execution_count": 95,
     "metadata": {},
     "output_type": "execute_result"
    }
   ],
   "source": [
    "# tuple(data_csv['table'])\n",
    "data_csv['table']"
   ]
  },
  {
   "cell_type": "code",
   "execution_count": 104,
   "id": "75418d53",
   "metadata": {},
   "outputs": [],
   "source": [
    "# data_etotal_csv = pd.read_csv(data_csv['file']['Schools'])\n",
    "for i in data_csv['table']:\n",
    "    exec(\"data_{} = pd.read_csv(data_csv['file']['{}'])\".format(i.lower(),i))"
   ]
  },
  {
   "cell_type": "code",
   "execution_count": 108,
   "id": "8c256166",
   "metadata": {},
   "outputs": [
    {
     "data": {
      "text/html": [
       "<div>\n",
       "<style scoped>\n",
       "    .dataframe tbody tr th:only-of-type {\n",
       "        vertical-align: middle;\n",
       "    }\n",
       "\n",
       "    .dataframe tbody tr th {\n",
       "        vertical-align: top;\n",
       "    }\n",
       "\n",
       "    .dataframe thead th {\n",
       "        text-align: right;\n",
       "    }\n",
       "</style>\n",
       "<table border=\"1\" class=\"dataframe\">\n",
       "  <thead>\n",
       "    <tr style=\"text-align: right;\">\n",
       "      <th></th>\n",
       "      <th>CandID</th>\n",
       "      <th>MCSNumber</th>\n",
       "      <th>PCode</th>\n",
       "      <th>Name</th>\n",
       "      <th>Name_original</th>\n",
       "      <th>Name_Ascii</th>\n",
       "      <th>NameE</th>\n",
       "      <th>DoB</th>\n",
       "      <th>DoB_original</th>\n",
       "      <th>Gender</th>\n",
       "      <th>...</th>\n",
       "      <th>LetterNumber</th>\n",
       "      <th>LetterNumberF</th>\n",
       "      <th>Order</th>\n",
       "      <th>Pass</th>\n",
       "      <th>Grade</th>\n",
       "      <th>SBA_Grade</th>\n",
       "      <th>DateCP</th>\n",
       "      <th>PrintCP</th>\n",
       "      <th>Program</th>\n",
       "      <th>Cand_Type_Code</th>\n",
       "    </tr>\n",
       "  </thead>\n",
       "  <tbody>\n",
       "    <tr>\n",
       "      <th>0</th>\n",
       "      <td>200202069011122000187</td>\n",
       "      <td>1251</td>\n",
       "      <td>20</td>\n",
       "      <td>ស៊ុំ រតនៈ</td>\n",
       "      <td>NaN</td>\n",
       "      <td>159.208.198.032.154.143.147.900</td>\n",
       "      <td>NaN</td>\n",
       "      <td>05/16/03 00:00:00</td>\n",
       "      <td>NaN</td>\n",
       "      <td>12</td>\n",
       "      <td>...</td>\n",
       "      <td>0</td>\n",
       "      <td>0</td>\n",
       "      <td>0</td>\n",
       "      <td>F</td>\n",
       "      <td>F</td>\n",
       "      <td>NaN</td>\n",
       "      <td>NaN</td>\n",
       "      <td>NaN</td>\n",
       "      <td>2</td>\n",
       "      <td>1</td>\n",
       "    </tr>\n",
       "    <tr>\n",
       "      <th>1</th>\n",
       "      <td>200514069011122000189</td>\n",
       "      <td>1252</td>\n",
       "      <td>20</td>\n",
       "      <td>ស៊ុំ វាសនា</td>\n",
       "      <td>NaN</td>\n",
       "      <td>159.208.198.032.156.182.341.147.182</td>\n",
       "      <td>NaN</td>\n",
       "      <td>10/20/02 00:00:00</td>\n",
       "      <td>NaN</td>\n",
       "      <td>11</td>\n",
       "      <td>...</td>\n",
       "      <td>0</td>\n",
       "      <td>0</td>\n",
       "      <td>15587</td>\n",
       "      <td>P</td>\n",
       "      <td>C</td>\n",
       "      <td>NaN</td>\n",
       "      <td>NaN</td>\n",
       "      <td>NaN</td>\n",
       "      <td>2</td>\n",
       "      <td>1</td>\n",
       "    </tr>\n",
       "    <tr>\n",
       "      <th>2</th>\n",
       "      <td>200406099021122000139</td>\n",
       "      <td>1253</td>\n",
       "      <td>20</td>\n",
       "      <td>ស៊ុំ សាន់</td>\n",
       "      <td>NaN</td>\n",
       "      <td>159.208.198.032.159.182.329.903</td>\n",
       "      <td>NaN</td>\n",
       "      <td>02/20/04 00:00:00</td>\n",
       "      <td>NaN</td>\n",
       "      <td>11</td>\n",
       "      <td>...</td>\n",
       "      <td>0</td>\n",
       "      <td>0</td>\n",
       "      <td>87157</td>\n",
       "      <td>F</td>\n",
       "      <td>F</td>\n",
       "      <td>NaN</td>\n",
       "      <td>NaN</td>\n",
       "      <td>NaN</td>\n",
       "      <td>2</td>\n",
       "      <td>1</td>\n",
       "    </tr>\n",
       "    <tr>\n",
       "      <th>3</th>\n",
       "      <td>200401079031122000132</td>\n",
       "      <td>1254</td>\n",
       "      <td>20</td>\n",
       "      <td>ស៊ុំ សុតា</td>\n",
       "      <td>NaN</td>\n",
       "      <td>159.208.198.032.159.187.330.182</td>\n",
       "      <td>NaN</td>\n",
       "      <td>09/02/03 00:00:00</td>\n",
       "      <td>NaN</td>\n",
       "      <td>11</td>\n",
       "      <td>...</td>\n",
       "      <td>0</td>\n",
       "      <td>0</td>\n",
       "      <td>19012</td>\n",
       "      <td>P</td>\n",
       "      <td>D</td>\n",
       "      <td>NaN</td>\n",
       "      <td>NaN</td>\n",
       "      <td>NaN</td>\n",
       "      <td>2</td>\n",
       "      <td>1</td>\n",
       "    </tr>\n",
       "    <tr>\n",
       "      <th>4</th>\n",
       "      <td>200805109011122000106</td>\n",
       "      <td>1255</td>\n",
       "      <td>20</td>\n",
       "      <td>ស៊ុំ សុវត្ថ</td>\n",
       "      <td>NaN</td>\n",
       "      <td>159.208.198.032.159.187.343.143.354</td>\n",
       "      <td>NaN</td>\n",
       "      <td>05/04/03 00:00:00</td>\n",
       "      <td>NaN</td>\n",
       "      <td>11</td>\n",
       "      <td>...</td>\n",
       "      <td>0</td>\n",
       "      <td>0</td>\n",
       "      <td>25606</td>\n",
       "      <td>P</td>\n",
       "      <td>D</td>\n",
       "      <td>NaN</td>\n",
       "      <td>NaN</td>\n",
       "      <td>NaN</td>\n",
       "      <td>2</td>\n",
       "      <td>1</td>\n",
       "    </tr>\n",
       "  </tbody>\n",
       "</table>\n",
       "<p>5 rows × 47 columns</p>\n",
       "</div>"
      ],
      "text/plain": [
       "                  CandID  MCSNumber  PCode         Name  Name_original  \\\n",
       "0  200202069011122000187       1251     20    ស៊ុំ រតនៈ            NaN   \n",
       "1  200514069011122000189       1252     20   ស៊ុំ វាសនា            NaN   \n",
       "2  200406099021122000139       1253     20    ស៊ុំ សាន់            NaN   \n",
       "3  200401079031122000132       1254     20    ស៊ុំ សុតា            NaN   \n",
       "4  200805109011122000106       1255     20  ស៊ុំ សុវត្ថ            NaN   \n",
       "\n",
       "                            Name_Ascii  NameE                DoB  \\\n",
       "0      159.208.198.032.154.143.147.900    NaN  05/16/03 00:00:00   \n",
       "1  159.208.198.032.156.182.341.147.182    NaN  10/20/02 00:00:00   \n",
       "2      159.208.198.032.159.182.329.903    NaN  02/20/04 00:00:00   \n",
       "3      159.208.198.032.159.187.330.182    NaN  09/02/03 00:00:00   \n",
       "4  159.208.198.032.159.187.343.143.354    NaN  05/04/03 00:00:00   \n",
       "\n",
       "   DoB_original  Gender  ...  LetterNumber LetterNumberF  Order Pass  Grade  \\\n",
       "0           NaN      12  ...             0             0      0    F      F   \n",
       "1           NaN      11  ...             0             0  15587    P      C   \n",
       "2           NaN      11  ...             0             0  87157    F      F   \n",
       "3           NaN      11  ...             0             0  19012    P      D   \n",
       "4           NaN      11  ...             0             0  25606    P      D   \n",
       "\n",
       "   SBA_Grade  DateCP  PrintCP  Program Cand_Type_Code  \n",
       "0        NaN     NaN      NaN        2              1  \n",
       "1        NaN     NaN      NaN        2              1  \n",
       "2        NaN     NaN      NaN        2              1  \n",
       "3        NaN     NaN      NaN        2              1  \n",
       "4        NaN     NaN      NaN        2              1  \n",
       "\n",
       "[5 rows x 47 columns]"
      ]
     },
     "execution_count": 108,
     "metadata": {},
     "output_type": "execute_result"
    }
   ],
   "source": [
    "data_etotal = pd.DataFrame(data_etotal)\n",
    "\n",
    "data_etotal.head()\n"
   ]
  }
 ],
 "metadata": {
  "kernelspec": {
   "display_name": "Python 3.10.7 64-bit",
   "language": "python",
   "name": "python3"
  },
  "language_info": {
   "codemirror_mode": {
    "name": "ipython",
    "version": 3
   },
   "file_extension": ".py",
   "mimetype": "text/x-python",
   "name": "python",
   "nbconvert_exporter": "python",
   "pygments_lexer": "ipython3",
   "version": "3.10.7"
  },
  "vscode": {
   "interpreter": {
    "hash": "916dbcbb3f70747c44a77c7bcd40155683ae19c65e1c03b4aa3499c5328201f1"
   }
  }
 },
 "nbformat": 4,
 "nbformat_minor": 5
}
